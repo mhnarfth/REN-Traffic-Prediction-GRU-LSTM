{
 "cells": [
  {
   "cell_type": "code",
   "execution_count": 1,
   "metadata": {},
   "outputs": [
    {
     "name": "stdout",
     "output_type": "stream",
     "text": [
      "   export_sysid                  t_first                   t_last  proto  \\\n",
      "0             6  2021-11-04T00:00:15.104  2021-11-04T00:02:46.400     17   \n",
      "1            56  2021-11-04T00:04:45.696  2021-11-04T00:04:45.696     17   \n",
      "2             9  2021-11-04T00:04:14.720  2021-11-04T00:04:14.720      6   \n",
      "3             4  2021-11-04T00:01:33.952  2021-11-04T00:01:34.720      6   \n",
      "4             1  2021-11-04T00:02:49.728  2021-11-04T00:02:49.728     17   \n",
      "\n",
      "       src4_addr      dst4_addr  src_port  dst_port  src_tos  dst_tos  ...  \\\n",
      "0     165.91.8.0   149.137.72.0     45587      8801      184        0  ...   \n",
      "1  143.215.192.0    198.71.40.0      9097      6151        0        0  ...   \n",
      "2    52.216.88.0  146.226.136.0       443     53446        0        0  ...   \n",
      "3  128.118.184.0   139.229.96.0     54262        80        0        0  ...   \n",
      "4   173.231.80.0   131.94.184.0      8801     12614        0        0  ...   \n",
      "\n",
      "   src_as  dst_as  src_mask  dst_mask   ip4_next_hop    ip4_router  src6_addr  \\\n",
      "0    3794   30103        16        24    198.71.45.7  64.57.28.243       None   \n",
      "1    2637   11537        16        31   198.71.46.64  64.57.28.243       None   \n",
      "2   16509   20243        24        18  162.252.70.43  64.57.28.243       None   \n",
      "3    3999   19226        16        16  162.252.70.43  64.57.28.243       None   \n",
      "4   30103    3681        24        16  162.252.70.43  64.57.28.243       None   \n",
      "\n",
      "  dst6_addr ip6_next_hop   router  \n",
      "0      None         None  Atlanta  \n",
      "1      None         None  Atlanta  \n",
      "2      None         None  Atlanta  \n",
      "3      None         None  Atlanta  \n",
      "4      None         None  Atlanta  \n",
      "\n",
      "[5 rows x 23 columns]\n"
     ]
    },
    {
     "ename": "",
     "evalue": "",
     "output_type": "error",
     "traceback": [
      "\u001b[1;31mThe Kernel crashed while executing code in the current cell or a previous cell. \n",
      "\u001b[1;31mPlease review the code in the cell(s) to identify a possible cause of the failure. \n",
      "\u001b[1;31mClick <a href='https://aka.ms/vscodeJupyterKernelCrash'>here</a> for more info. \n",
      "\u001b[1;31mView Jupyter <a href='command:jupyter.viewOutput'>log</a> for further details."
     ]
    }
   ],
   "source": [
    "import pandas as pd\n",
    "import fastparquet\n",
    "\n",
    "# Load the two parquet files\n",
    "atlanta_data = pd.read_parquet('/Users/maushariff/Downloads/Local_Disk_E/Byrav/Internet2_Data/Data/Atla/combined_internet_traffic_data_atla.parquet')\n",
    "dallas_data = pd.read_parquet('/Users/maushariff/Downloads/Local_Disk_E/Byrav/Internet2_Data/Data/Dallas/combined_internet_traffic_data_dallas.parquet')\n",
    "\n",
    "# Add a 'router' column to differentiate the data\n",
    "atlanta_data['router'] = 'Atlanta'\n",
    "dallas_data['router'] = 'Dallas'\n",
    "\n",
    "# Combine both dataframes\n",
    "combined_data = pd.concat([atlanta_data, dallas_data], ignore_index=True)\n",
    "\n",
    "# Save the combined data if needed\n",
    "combined_data.to_parquet('/Users/maushariff/Downloads/Local_Disk_E/Byrav/Internet2_Data/Data/combined_router_dallas_atla_data.parquet')\n",
    "\n",
    "# Check the combined data\n",
    "print(combined_data.head())\n"
   ]
  },
  {
   "cell_type": "code",
   "execution_count": 7,
   "metadata": {},
   "outputs": [],
   "source": [
    "import pyarrow.parquet as pq\n",
    "import pyarrow as pa\n",
    "\n",
    "try:\n",
    "    # Attempt to read the Parquet file despite the corruption\n",
    "    dallas_data = pd.read_parquet('/Users/maushariff/Downloads/Local_Disk_E/Byrav/Internet2_Data/Data/Dallas/combined_internet_traffic_data_dallas.parquet', engine='pyarrow', use_threads=False)\n",
    "except pa.lib.ArrowInvalid as e:\n",
    "    print(f\"Error reading Parquet file: {e}\")\n"
   ]
  }
 ],
 "metadata": {
  "kernelspec": {
   "display_name": "myenv",
   "language": "python",
   "name": "python3"
  },
  "language_info": {
   "codemirror_mode": {
    "name": "ipython",
    "version": 3
   },
   "file_extension": ".py",
   "mimetype": "text/x-python",
   "name": "python",
   "nbconvert_exporter": "python",
   "pygments_lexer": "ipython3",
   "version": "3.9.6"
  }
 },
 "nbformat": 4,
 "nbformat_minor": 2
}
